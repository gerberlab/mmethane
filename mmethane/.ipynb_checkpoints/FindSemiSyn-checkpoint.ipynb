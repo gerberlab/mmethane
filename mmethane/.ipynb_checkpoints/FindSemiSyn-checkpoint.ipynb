{
 "cells": [
  {
   "cell_type": "code",
   "execution_count": 1,
   "id": "73057abf-1845-4341-90ca-8327f51a1212",
   "metadata": {},
   "outputs": [],
   "source": [
    "import pandas as pd\n",
    "import os\n",
    "import pickle as pkl\n",
    "import matplotlib.pyplot as plt\n",
    "import matplotlib.gridspec as gridspec\n",
    "import sys\n",
    "sys.path.append(os.path.abspath(\"..\"))\n",
    "import seaborn as sns\n",
    "\n",
    "try:\n",
    "    import pubchempy as pcp\n",
    "    from rdkit import Chem\n",
    "    from rdkit.Chem import Draw\n",
    "    import ete3\n",
    "    import ete4\n",
    "except:\n",
    "    pass\n",
    "import scipy\n",
    "from scipy.spatial.distance import cityblock, squareform, pdist\n",
    "from matplotlib.colors import LogNorm, Normalize\n",
    "from matplotlib.backends.backend_pdf import PdfPages\n",
    "from scipy.special import expit\n",
    "from plot_ete_tree import *\n",
    "from plot_results import *\n",
    "import torch\n",
    "from model_helper import *\n",
    "import re\n",
    "import torch.nn.functional as F"
   ]
  },
  {
   "cell_type": "code",
   "execution_count": 2,
   "id": "c5bae2e2-2b55-48a2-8f24-9ee9079397d9",
   "metadata": {},
   "outputs": [],
   "source": [
    "# Get fold change of rules\n",
    "# 1. For each dataset, find seed with lowest loss\n",
    "# 2. For given seed, find rule (s) (seq + metab rule) with highest odds\n",
    "# 3. Find fold change between cases and control for given rule"
   ]
  },
  {
   "cell_type": "code",
   "execution_count": 3,
   "id": "93d6e159-7d2b-4afa-8283-913453dae06c",
   "metadata": {},
   "outputs": [],
   "source": [
    "def convert_to_log_normal(mu,var):\n",
    "    var2 = np.log(var/(mu**2) + 1)\n",
    "    mu2 = np.log(mu) - var2/2\n",
    "    return mu2, var2"
   ]
  },
  {
   "cell_type": "code",
   "execution_count": 2,
   "id": "c2733bea-4ff0-487a-92d8-0b8af9132dc8",
   "metadata": {},
   "outputs": [],
   "source": [
    "path = '/Users/jendawk/logs/mditre-real-june6/'\n",
    "rd ={'fold change':{},'var 0':{},'var 1':{}}\n",
    "rd={}\n",
    "for root, dirs, files in os.walk(path):\n",
    "    if 'results_last.csv' in files:\n",
    "        # For each dataset, find seed with lowest loss\n",
    "\n",
    "        df = pd.read_csv(os.path.join(root, 'results_last.csv'), index_col=0).drop(['Mean','StDev','Median','25% Quantile','75% Quantile'])\n",
    "        ls=df.index.values[df[\"Total Loss\"]==df[\"Total Loss\"].min()]\n",
    "        # if len(ls)==1:\n",
    "        #     sst=ls[0]\n",
    "        # else:\n",
    "        #     sst = np.random.choice(ls, 1)[0]\n",
    "        for sst in ls:\n",
    "            sst = re.findall(r'\\d+', sst)[0]\n",
    "    \n",
    "            # for sst in [1,2,3,4,5,6,7,8,9,10]:\n",
    "            seed_path = os.path.join(root, 'seed_'+sst+'/EVAL/')\n",
    "            # Get rule(s) with highest odds\n",
    "            try:\n",
    "                rules = pd.read_csv(os.path.join(seed_path, 'rules.csv'), index_col=[0,1])\n",
    "            except:\n",
    "                continue\n",
    "            highest_odds = rules.index.values[rules['Rule Log Odds'].abs()==rules['Rule Log Odds'].abs().max()]\n",
    "            # highest_odds = rules.index.values\n",
    "            with open(seed_path + 'plotting_data/detector_params.pkl','rb') as f:\n",
    "                det_params = pkl.load(f)\n",
    "    \n",
    "            data = pd.read_pickle(seed_path.replace('EVAL/','dataset_used.pkl'))\n",
    "            for h in highest_odds:\n",
    "                if 'pubchem' in seed_path:\n",
    "                    dtype='metabs'\n",
    "                elif '_ra/' in seed_path or '_cts/' in seed_path:\n",
    "                    dtype='taxa'\n",
    "                # elif 'pubchem' in seed_path:\n",
    "                #     dtype='metabs'\n",
    "                else:\n",
    "                    continue\n",
    "                if (dtype=='metabs' and 'seqs' in root):\n",
    "                    continue\n",
    "                \n",
    "                # for k in rd.keys():\n",
    "                # if dtype not in rd.keys():\n",
    "                #     rd[dtype]={}\n",
    "                # if root not in rd[dtype].keys():\n",
    "                #     rd[dtype][root]={'fold change':[],'var 0':[],'var 1':[]}\n",
    "                rule = int(re.findall(r'\\d+', h[0])[0])\n",
    "                det = int(re.findall(r'\\d+', h[1])[0])\n",
    "    \n",
    "                detd = det_params[rule][det]\n",
    "                if dtype=='taxa':\n",
    "                    feats = detd['features'].sum(1)\n",
    "                else:\n",
    "                    feats = detd['features'].mean(1)\n",
    "                    # feats = data['metabs']['X'][fnames].median(1)\n",
    "                if 'cdi' in root or 'eraw' in root:\n",
    "                    fold_change = abs((np.mean(feats.loc[detd['y']==1])/np.mean(feats.loc[detd['y']==0])))\n",
    "                    var0=np.var(feats.loc[detd['y']==0])\n",
    "                    var1=np.var(feats.loc[detd['y']==1])\n",
    "                else:\n",
    "                    fold_change = abs((np.mean(feats.loc[detd['y']==0])/np.mean(feats.loc[detd['y']==1])))\n",
    "                    var0=np.var(feats.loc[detd['y']==1])\n",
    "                    var1=np.var(feats.loc[detd['y']==0])\n",
    "                if fold_change < 1:\n",
    "                    fold_change = 1/fold_change\n",
    "                if dtype=='metabs':\n",
    "                    fold_change = np.exp(fold_change)\n",
    "                # if abs(fold_change)<1e-5 or abs(fold_change)>1e5 or var0>1e5 or var1>1e5:\n",
    "                #     print(var0)\n",
    "                #     print(var1)\n",
    "                #     print(fold_change)\n",
    "                #     print('')\n",
    "                #     continue\n",
    "                if dtype not in rd.keys():\n",
    "                    rd[dtype]={}\n",
    "                if seed_path not in rd[dtype].keys():\n",
    "                    rd[dtype][seed_path]={'fold change':[],'var 0':[],'var 1':[]}\n",
    "                rd[dtype][seed_path]['fold change'].append(fold_change)\n",
    "                rd[dtype][seed_path]['var 0'].append(var0)\n",
    "                rd[dtype][seed_path]['var 1'].append(var1)\n",
    "\n",
    "            # {'fold change':fold_change,'var 0':var0, 'var 1':var1})\n",
    "         \n",
    "\n",
    "rd_new = {}\n",
    "for d in rd.keys():\n",
    "    if d not in rd_new.keys():\n",
    "        rd_new[d]={}\n",
    "    for ro in rd[d].keys():\n",
    "        r = ro.split(path)[-1].split('/')[0]\n",
    "        if r not in rd_new[d].keys():\n",
    "            rd_new[d][r]={}\n",
    "        rd_new[d][r]['fold change']=np.max(rd[d][ro]['fold change'])\n",
    "        rd_new[d][r]['var 0']=rd[d][ro]['var 0'][np.argmax(rd[d][ro]['fold change'])]\n",
    "        rd_new[d][r]['var 1']=rd[d][ro]['var 1'][np.argmax(rd[d][ro]['fold change'])]"
   ]
  },
  {
   "cell_type": "code",
   "execution_count": 80,
   "id": "1830783d-9547-4385-9ca2-b03f9a611935",
   "metadata": {},
   "outputs": [],
   "source": [
    "seqs_wang = pd.read_pickle('/Users/jendawk/Dropbox (MIT)/microbes-metabolites/datasets/WANG/processed/wang_ra/seqs.pkl')\n",
    "mets_wang = pd.read_pickle('/Users/jendawk/Dropbox (MIT)/microbes-metabolites/datasets/WANG/processed/wang_pubchem/mets.pkl')"
   ]
  },
  {
   "cell_type": "code",
   "execution_count": 81,
   "id": "c1056cb0-96ce-4204-b6c5-80ca0bc69640",
   "metadata": {},
   "outputs": [],
   "source": [
    "mean_taxa = seqs_wang['X'].loc[seqs_wang['y']==0].mean(0).median()\n",
    "mean_mets = mets_wang['X'].loc[seqs_wang['y']==0].mean(0).median()"
   ]
  },
  {
   "cell_type": "code",
   "execution_count": 82,
   "id": "9e1df711-8052-496c-9519-fd7b647a2921",
   "metadata": {
    "scrolled": true
   },
   "outputs": [],
   "source": [
    "dfm = pd.DataFrame(rd_new['metabs'])"
   ]
  },
  {
   "cell_type": "code",
   "execution_count": 83,
   "id": "34f4a734-b8a8-4a49-ac8d-b84cae039f9e",
   "metadata": {
    "scrolled": true
   },
   "outputs": [
    {
     "data": {
      "text/html": [
       "<div>\n",
       "<style scoped>\n",
       "    .dataframe tbody tr th:only-of-type {\n",
       "        vertical-align: middle;\n",
       "    }\n",
       "\n",
       "    .dataframe tbody tr th {\n",
       "        vertical-align: top;\n",
       "    }\n",
       "\n",
       "    .dataframe thead th {\n",
       "        text-align: right;\n",
       "    }\n",
       "</style>\n",
       "<table border=\"1\" class=\"dataframe\">\n",
       "  <thead>\n",
       "    <tr style=\"text-align: right;\">\n",
       "      <th></th>\n",
       "      <th>erawijantari_pubchem</th>\n",
       "      <th>he_pubchem</th>\n",
       "      <th>cdi_pubchem</th>\n",
       "      <th>ibmdb_pubchem</th>\n",
       "      <th>wang_pubchem</th>\n",
       "      <th>franzosa_pubchem</th>\n",
       "    </tr>\n",
       "  </thead>\n",
       "  <tbody>\n",
       "    <tr>\n",
       "      <th>fold change</th>\n",
       "      <td>3.617251</td>\n",
       "      <td>5.078419</td>\n",
       "      <td>10.560735</td>\n",
       "      <td>20.873106</td>\n",
       "      <td>2.667114e+01</td>\n",
       "      <td>35.121855</td>\n",
       "    </tr>\n",
       "    <tr>\n",
       "      <th>var 0</th>\n",
       "      <td>0.826792</td>\n",
       "      <td>0.671964</td>\n",
       "      <td>0.952256</td>\n",
       "      <td>0.194703</td>\n",
       "      <td>1.430507e-13</td>\n",
       "      <td>0.486856</td>\n",
       "    </tr>\n",
       "    <tr>\n",
       "      <th>var 1</th>\n",
       "      <td>0.691695</td>\n",
       "      <td>0.078243</td>\n",
       "      <td>0.159149</td>\n",
       "      <td>0.221652</td>\n",
       "      <td>3.094257e-13</td>\n",
       "      <td>1.143771</td>\n",
       "    </tr>\n",
       "  </tbody>\n",
       "</table>\n",
       "</div>"
      ],
      "text/plain": [
       "             erawijantari_pubchem  he_pubchem  cdi_pubchem  ibmdb_pubchem  \\\n",
       "fold change              3.617251    5.078419    10.560735      20.873106   \n",
       "var 0                    0.826792    0.671964     0.952256       0.194703   \n",
       "var 1                    0.691695    0.078243     0.159149       0.221652   \n",
       "\n",
       "             wang_pubchem  franzosa_pubchem  \n",
       "fold change  2.667114e+01         35.121855  \n",
       "var 0        1.430507e-13          0.486856  \n",
       "var 1        3.094257e-13          1.143771  "
      ]
     },
     "execution_count": 83,
     "metadata": {},
     "output_type": "execute_result"
    }
   ],
   "source": [
    "dfm.sort_values(by='fold change', axis=1)"
   ]
  },
  {
   "cell_type": "code",
   "execution_count": 84,
   "id": "a8ec889c-c877-41d3-b796-c27e8865c713",
   "metadata": {},
   "outputs": [
    {
     "data": {
      "text/html": [
       "<div>\n",
       "<style scoped>\n",
       "    .dataframe tbody tr th:only-of-type {\n",
       "        vertical-align: middle;\n",
       "    }\n",
       "\n",
       "    .dataframe tbody tr th {\n",
       "        vertical-align: top;\n",
       "    }\n",
       "\n",
       "    .dataframe thead th {\n",
       "        text-align: right;\n",
       "    }\n",
       "</style>\n",
       "<table border=\"1\" class=\"dataframe\">\n",
       "  <thead>\n",
       "    <tr style=\"text-align: right;\">\n",
       "      <th></th>\n",
       "      <th>franzosa_ra</th>\n",
       "      <th>ibmdb_ra</th>\n",
       "      <th>he_cts</th>\n",
       "      <th>wang_ra</th>\n",
       "      <th>cdi_cts</th>\n",
       "    </tr>\n",
       "  </thead>\n",
       "  <tbody>\n",
       "    <tr>\n",
       "      <th>fold change</th>\n",
       "      <td>1.191989</td>\n",
       "      <td>1.289438</td>\n",
       "      <td>1.314907</td>\n",
       "      <td>1.660129</td>\n",
       "      <td>22.237130</td>\n",
       "    </tr>\n",
       "    <tr>\n",
       "      <th>var 0</th>\n",
       "      <td>0.027414</td>\n",
       "      <td>0.003368</td>\n",
       "      <td>0.033415</td>\n",
       "      <td>0.005394</td>\n",
       "      <td>0.003440</td>\n",
       "    </tr>\n",
       "    <tr>\n",
       "      <th>var 1</th>\n",
       "      <td>0.041582</td>\n",
       "      <td>0.013027</td>\n",
       "      <td>0.012109</td>\n",
       "      <td>0.008330</td>\n",
       "      <td>0.000001</td>\n",
       "    </tr>\n",
       "  </tbody>\n",
       "</table>\n",
       "</div>"
      ],
      "text/plain": [
       "             franzosa_ra  ibmdb_ra    he_cts   wang_ra    cdi_cts\n",
       "fold change     1.191989  1.289438  1.314907  1.660129  22.237130\n",
       "var 0           0.027414  0.003368  0.033415  0.005394   0.003440\n",
       "var 1           0.041582  0.013027  0.012109  0.008330   0.000001"
      ]
     },
     "execution_count": 84,
     "metadata": {},
     "output_type": "execute_result"
    }
   ],
   "source": [
    "dft = pd.DataFrame(rd_new['taxa'])\n",
    "dft.sort_values(by='fold change', axis=1)"
   ]
  },
  {
   "cell_type": "code",
   "execution_count": 37,
   "id": "0252bbff-e49e-474d-ace4-2b3590d248ee",
   "metadata": {},
   "outputs": [],
   "source": [
    "# Easiest Case"
   ]
  },
  {
   "cell_type": "code",
   "execution_count": 38,
   "id": "afbd4974-fd93-48e2-bafc-05bf4c7ca165",
   "metadata": {},
   "outputs": [
    {
     "name": "stdout",
     "output_type": "stream",
     "text": [
      "taxa\n",
      "controls:  (0.00015121409090909, 0.0034398890991365312)\n",
      "cases:  (0.0033625674508433504, 1.3933597708743422e-06)\n",
      "metabs\n",
      "controls:  (0.03082741400725913, 0.4868558803402221)\n",
      "cases:  (1.0827159556444839, 1.143770731556085)\n"
     ]
    }
   ],
   "source": [
    "p_taxa = pd.DataFrame(rd_new['taxa']).sort_values(by='fold change', axis=1).iloc[:,-1]\n",
    "p_mets = pd.DataFrame(rd_new['metabs']).sort_values(by='fold change', axis=1).iloc[:,-1]\n",
    "\n",
    "print('taxa')\n",
    "# Control mean and var, taxa\n",
    "print('controls: ', (mean_taxa, p_taxa['var 0']))\n",
    "\n",
    "# Case mean and var, taxa \n",
    "print('cases: ', (mean_taxa*p_taxa['fold change'], p_taxa['var 1']))\n",
    "\n",
    "print('metabs')\n",
    "# Control mean and var, metabs\n",
    "print('controls: ', (mean_mets, p_mets['var 0']))\n",
    "\n",
    "# Case mean and var, metabs\n",
    "print('cases: ', (mean_mets*p_mets['fold change'], p_mets['var 1']))"
   ]
  },
  {
   "cell_type": "code",
   "execution_count": 39,
   "id": "a6fe49e7-e5ba-4855-9f17-0edca20f1583",
   "metadata": {},
   "outputs": [
    {
     "name": "stdout",
     "output_type": "stream",
     "text": [
      "taxa\n",
      "(-14.757473109665252, 11.921318409894646)\n",
      "(-5.75315531366812, 0.11620967828622322)\n",
      "metabs\n",
      "(-6.599783307872394, 6.240864776334834)\n",
      "(-0.26098508616570754, 0.6809154885889437)\n"
     ]
    }
   ],
   "source": [
    "print('taxa')\n",
    "# Control mean and var, taxa\n",
    "print(convert_to_log_normal(mean_taxa, p_taxa['var 0']))\n",
    "\n",
    "# Case mean and var, taxa \n",
    "print(convert_to_log_normal(mean_taxa*p_taxa['fold change'], p_taxa['var 1']))\n",
    "\n",
    "print('metabs')\n",
    "# Control mean and var, metabs\n",
    "print(convert_to_log_normal(mean_mets, p_mets['var 0']))\n",
    "\n",
    "# Case mean and var, metabs\n",
    "print(convert_to_log_normal(mean_mets*p_mets['fold change'], p_mets['var 1']))"
   ]
  },
  {
   "cell_type": "code",
   "execution_count": 49,
   "id": "1fac8dfa-636b-4038-8fff-a7c5dccbd4f7",
   "metadata": {},
   "outputs": [],
   "source": [
    "# smallest fold change"
   ]
  },
  {
   "cell_type": "code",
   "execution_count": 50,
   "id": "ece5b0b7-5a7d-44a4-9cdc-78a7ed195f68",
   "metadata": {},
   "outputs": [],
   "source": [
    "p_taxa = pd.DataFrame(rd_new['taxa']).sort_values(by='fold change', axis=1).iloc[:,0]\n",
    "p_mets = pd.DataFrame(rd_new['metabs']).sort_values(by='fold change', axis=1).iloc[:,0]"
   ]
  },
  {
   "cell_type": "code",
   "execution_count": 51,
   "id": "f19ccca5-1eea-452c-9570-da059831ccc3",
   "metadata": {},
   "outputs": [
    {
     "data": {
      "text/plain": [
       "fold change    1.191989\n",
       "var 0          0.027414\n",
       "var 1          0.041582\n",
       "Name: franzosa_ra, dtype: float64"
      ]
     },
     "execution_count": 51,
     "metadata": {},
     "output_type": "execute_result"
    }
   ],
   "source": [
    "p_taxa"
   ]
  },
  {
   "cell_type": "code",
   "execution_count": 52,
   "id": "ca601b12-e879-432e-b1cf-b2af5dd33bf1",
   "metadata": {},
   "outputs": [
    {
     "data": {
      "text/plain": [
       "fold change    3.617251\n",
       "var 0          0.826792\n",
       "var 1          0.691695\n",
       "Name: erawijantari_pubchem, dtype: float64"
      ]
     },
     "execution_count": 52,
     "metadata": {},
     "output_type": "execute_result"
    }
   ],
   "source": [
    "p_mets"
   ]
  },
  {
   "cell_type": "code",
   "execution_count": 53,
   "id": "1fe309ab-6300-4a1b-836a-f1c3f852ad9d",
   "metadata": {},
   "outputs": [
    {
     "name": "stdout",
     "output_type": "stream",
     "text": [
      "taxa\n",
      "0.00015121409090909 0.027414180189987602\n",
      "0.00018024558402570857 0.04158196365833808\n",
      "metabs\n",
      "0.03082741400725913 0.8267920298727679\n",
      "0.11151048751249222 0.691695089124096\n"
     ]
    }
   ],
   "source": [
    "print('taxa')\n",
    "# Control mean and var, taxa\n",
    "print(mean_taxa, p_taxa['var 0'])\n",
    "\n",
    "# Case mean and var, taxa \n",
    "print(mean_taxa* p_taxa['fold change'], p_taxa['var 1'])\n",
    "\n",
    "print('metabs')\n",
    "# Control mean and var, metabs\n",
    "print(mean_mets, p_mets['var 0'])\n",
    "\n",
    "# Case mean and var, metabs\n",
    "print(mean_mets*p_mets['fold change'], p_mets['var 1'])"
   ]
  },
  {
   "cell_type": "code",
   "execution_count": 54,
   "id": "b0778877-3350-4257-ba63-3578f0c6d5cf",
   "metadata": {},
   "outputs": [
    {
     "name": "stdout",
     "output_type": "stream",
     "text": [
      "taxa\n",
      "(-15.795280789339152, 13.996933769242444)\n",
      "(-15.652336567363516, 14.062292572200601)\n",
      "metabs\n",
      "(-6.864175172784861, 6.7696485061597675)\n",
      "(-4.2118768991171, 4.036480530039848)\n"
     ]
    }
   ],
   "source": [
    "print('taxa')\n",
    "# Control mean and var, taxa\n",
    "print(convert_to_log_normal(mean_taxa, p_taxa['var 0']))\n",
    "\n",
    "# Case mean and var, taxa \n",
    "print(convert_to_log_normal(mean_taxa*p_taxa['fold change'], p_taxa['var 1']))\n",
    "\n",
    "print('metabs')\n",
    "# Control mean and var, metabs\n",
    "print(convert_to_log_normal(mean_mets, p_mets['var 0']))\n",
    "\n",
    "# Case mean and var, metabs\n",
    "print(convert_to_log_normal(mean_mets*p_mets['fold change'], p_mets['var 1']))"
   ]
  },
  {
   "cell_type": "code",
   "execution_count": null,
   "id": "97636ada-a19b-46c7-b6f1-90aa245eea6d",
   "metadata": {},
   "outputs": [],
   "source": []
  },
  {
   "cell_type": "code",
   "execution_count": 8,
   "id": "8a10c031-d1a6-416a-af50-0e10848ac0e4",
   "metadata": {},
   "outputs": [
    {
     "data": {
      "text/plain": [
       "dict_keys(['metabs'])"
      ]
     },
     "execution_count": 8,
     "metadata": {},
     "output_type": "execute_result"
    }
   ],
   "source": [
    "res_dict = {'taxa':{'ctrl mea"
   ]
  },
  {
   "cell_type": "code",
   "execution_count": 5,
   "id": "5ecd4321-c538-4f38-bc0c-b83149b56631",
   "metadata": {},
   "outputs": [
    {
     "data": {
      "text/plain": [
       "fold change    3.777695\n",
       "var 0          0.234616\n",
       "var 1          0.216853\n",
       "Name: 0.5, dtype: float64"
      ]
     },
     "execution_count": 5,
     "metadata": {},
     "output_type": "execute_result"
    }
   ],
   "source": [
    "pd.DataFrame(rd_new['metabs']).quantile(0.5, axis=1)"
   ]
  },
  {
   "cell_type": "code",
   "execution_count": 6,
   "id": "4b8e82d9-3a56-46ad-8801-dc780d0a4322",
   "metadata": {},
   "outputs": [
    {
     "data": {
      "text/plain": [
       "fold change    0.538469\n",
       "var 0          0.003358\n",
       "var 1          0.010197\n",
       "Name: 0.5, dtype: float64"
      ]
     },
     "execution_count": 6,
     "metadata": {},
     "output_type": "execute_result"
    }
   ],
   "source": [
    "pd.DataFrame(rd_new['taxa']).quantile(0.5, axis=1)"
   ]
  },
  {
   "cell_type": "code",
   "execution_count": 51,
   "id": "7ba827b3-6cd7-4b3a-88ba-4ae88aebf6af",
   "metadata": {},
   "outputs": [
    {
     "data": {
      "text/plain": [
       "(-6.900553663826765, 4.590766955677347)"
      ]
     },
     "execution_count": 51,
     "metadata": {},
     "output_type": "execute_result"
    }
   ],
   "source": [
    "convert_to_log_normal(1e-2,0.009757)"
   ]
  },
  {
   "cell_type": "code",
   "execution_count": 52,
   "id": "09b93906-2ee7-452c-984c-ed1e15b7b106",
   "metadata": {},
   "outputs": [
    {
     "data": {
      "text/plain": [
       "(-0.6199461073942916, 0.04569403226932391)"
      ]
     },
     "execution_count": 52,
     "metadata": {},
     "output_type": "execute_result"
    }
   ],
   "source": [
    "convert_to_log_normal((1e-2)+0.540406,0.014164)"
   ]
  },
  {
   "cell_type": "code",
   "execution_count": 46,
   "id": "5b859000-cae6-4d5c-b8e7-07cf16e79c93",
   "metadata": {},
   "outputs": [
    {
     "data": {
      "text/plain": [
       "fold change    9.832707\n",
       "var 0          0.402572\n",
       "var 1          0.276570\n",
       "Name: 0.75, dtype: float64"
      ]
     },
     "execution_count": 46,
     "metadata": {},
     "output_type": "execute_result"
    }
   ],
   "source": [
    "pd.DataFrame(rd_new['metabs']).quantile(0.75, axis=1)"
   ]
  },
  {
   "cell_type": "code",
   "execution_count": 47,
   "id": "874c524a-d1e5-42b4-9a61-d474642a67c4",
   "metadata": {
    "scrolled": true
   },
   "outputs": [
    {
     "data": {
      "text/plain": [
       "(-0.16915384699770827, 0.33830769399541655)"
      ]
     },
     "execution_count": 47,
     "metadata": {},
     "output_type": "execute_result"
    }
   ],
   "source": [
    "convert_to_log_normal(1,0.402572)"
   ]
  },
  {
   "cell_type": "code",
   "execution_count": 48,
   "id": "515c5d93-2eaa-4213-a145-6debef7ff52a",
   "metadata": {},
   "outputs": [
    {
     "data": {
      "text/plain": [
       "(2.381392947464934, 0.0023540722933171874)"
      ]
     },
     "execution_count": 48,
     "metadata": {},
     "output_type": "execute_result"
    }
   ],
   "source": [
    "convert_to_log_normal(1+9.832707,0.276570)"
   ]
  },
  {
   "cell_type": "code",
   "execution_count": 93,
   "id": "63f6ab60-b1d4-46e5-b6cb-7ea1c27399f7",
   "metadata": {},
   "outputs": [
    {
     "data": {
      "text/plain": [
       "array([('Rule 4', 'Detector 13'), ('Rule 4', 'Detector 19')], dtype=object)"
      ]
     },
     "execution_count": 93,
     "metadata": {},
     "output_type": "execute_result"
    }
   ],
   "source": [
    "highest_odds"
   ]
  }
 ],
 "metadata": {
  "kernelspec": {
   "display_name": "py311_arm",
   "language": "python",
   "name": "py311_arm"
  },
  "language_info": {
   "codemirror_mode": {
    "name": "ipython",
    "version": 3
   },
   "file_extension": ".py",
   "mimetype": "text/x-python",
   "name": "python",
   "nbconvert_exporter": "python",
   "pygments_lexer": "ipython3",
   "version": "3.11.6"
  }
 },
 "nbformat": 4,
 "nbformat_minor": 5
}
